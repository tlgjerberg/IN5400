{
 "cells": [
  {
   "cell_type": "markdown",
   "metadata": {},
   "source": [
    "# Data preparation - download from Microsoft OneDrive\n",
    "\n",
    "---"
   ]
  },
  {
   "cell_type": "markdown",
   "metadata": {},
   "source": [
    "In this mandatory exercise, you are implementing an image captioning network. For training and validation data, you will need images with corresponding descriptions. The dataset that you will use is the \"Common Object in Context\" (COCO) 2017. To solve the image captioning problem, you will use a neural network based on a CNN encoder and an RNN decoder. The CNN encoder will be the \"Wide ResNet-101-2\" network pretrained on the imageNet dataset. More information regarding the structure of the neural network is given in the \"exercise\" notebook. \n",
    "\n",
    "You don't need to run this notebook to start with the implementation part in the \"exercise\" notebook, but you will need to run this notebook before you can train the network. The COCO dataset is huge (~19GB) and to reduce the amount of data needed to be downloaded and preprocessed, you can directly download the following using this notebook:\n",
    "\n",
    "- The features (as pickle files) produced by the Wide ResNet-101-2 network on the training and validation images.\n",
    "- The validation images\n",
    "- A vocabulary file (pickle) including information about the words in the COCO dataset.\n",
    "\n",
    "The files will allocate approximately 4 GB. Check the amount of free space on your hard-drive before you start downloading and extracting the files. After the zip files have been downloaded and extracted, you can delete the zip files to free up disk space if needed. \n",
    "\n",
    "Software version:\n",
    "- Python 3.7"
   ]
  },
  {
   "cell_type": "code",
   "execution_count": null,
   "metadata": {},
   "outputs": [],
   "source": [
    "import utils_data_preparation_download_onedrive.download_from_onedrive as onedrive\n",
    "download_dir = \"data/coco/\""
   ]
  },
  {
   "cell_type": "markdown",
   "metadata": {},
   "source": [
    "---\n",
    "\n",
    "\n",
    "<a id='Task1'></a>\n",
    "### Step1: Download and extract COCO validation  images\n",
    "\n",
    "The data can be found in folder \"data/coco\" subfolder \"val2017\". \n",
    "\n",
    "\n",
    "**Note**: If the process fails at some point, you may need to go into the \"data/coco\" folder and delete the files which were not downloaded or extracted correctly before trying again."
   ]
  },
  {
   "cell_type": "code",
   "execution_count": null,
   "metadata": {},
   "outputs": [],
   "source": [
    "# download validation images\n",
    "filename = \"val2017.zip\"\n",
    "data_url = \"http://images.cocodataset.org/zips/val2017.zip\"\n",
    "file_path = onedrive.download(url=data_url, download_dir=download_dir, filename=filename)\n",
    "onedrive.extract(file_path=file_path, download_dir=download_dir)"
   ]
  },
  {
   "cell_type": "markdown",
   "metadata": {},
   "source": [
    "---\n",
    "\n",
    "<a id='Task2'></a>\n",
    "### Step2: Download vocabulary ###\n",
    "\n",
    "\n",
    "The vocabulary will be stored as a pickle file in \"data/coco/vocabulary/\"\n",
    "\n",
    "**Note**: If the process fails at some point, you may need to go into the \"data/coco\" folder and delete the files which were not downloaded or extracted correctly before trying again."
   ]
  },
  {
   "cell_type": "code",
   "execution_count": null,
   "metadata": {},
   "outputs": [],
   "source": [
    "# download vocabulary from Onedrive\n",
    "filename = 'vocabulary.zip'\n",
    "data_url = 'https://onedrive.live.com/download?cid=36039A0F53011CF6&resid=36039A0F53011CF6%21165454&authkey=ACGCj1C2lRMWfCk'\n",
    "file_path = onedrive.download(url=data_url, download_dir=download_dir, filename=filename)\n",
    "onedrive.extract(file_path=file_path, download_dir=download_dir)"
   ]
  },
  {
   "cell_type": "markdown",
   "metadata": {},
   "source": [
    "---\n",
    "<a id='Task3'></a>\n",
    "### Step3: Download VGG16 features for the training and validation images ###\n",
    "\n"
   ]
  },
  {
   "cell_type": "code",
   "execution_count": null,
   "metadata": {},
   "outputs": [],
   "source": [
    "# download validation data CNN (Wide ResNet-101-2) features from Onedrive\n",
    "filename = 'Val2017_cnn_features.zip'\n",
    "data_url = 'https://onedrive.live.com/download?cid=36039A0F53011CF6&resid=36039A0F53011CF6%21165455&authkey=AGWzw3droynoGpg'\n",
    "file_path = onedrive.download(url=data_url, download_dir=download_dir, filename=filename)\n",
    "onedrive.extract(file_path=file_path, download_dir=download_dir)"
   ]
  },
  {
   "cell_type": "code",
   "execution_count": null,
   "metadata": {},
   "outputs": [],
   "source": [
    "# download training data CNN (Wide ResNet-101-2) features from Onedrive\n",
    "filename = 'Train2017_cnn_features.zip'\n",
    "data_url = 'https://onedrive.live.com/download?cid=36039A0F53011CF6&resid=36039A0F53011CF6%21165456&authkey=APOhU3ntqJPN_Us'\n",
    "file_path = onedrive.download(url=data_url, download_dir=download_dir, filename=filename)\n",
    "onedrive.extract(file_path=file_path, download_dir=download_dir)"
   ]
  },
  {
   "cell_type": "code",
   "execution_count": null,
   "metadata": {},
   "outputs": [],
   "source": []
  }
 ],
 "metadata": {
  "kernelspec": {
   "display_name": "Python 3",
   "language": "python",
   "name": "python3"
  },
  "language_info": {
   "codemirror_mode": {
    "name": "ipython",
    "version": 3
   },
   "file_extension": ".py",
   "mimetype": "text/x-python",
   "name": "python",
   "nbconvert_exporter": "python",
   "pygments_lexer": "ipython3",
   "version": "3.7.6"
  }
 },
 "nbformat": 4,
 "nbformat_minor": 4
}
